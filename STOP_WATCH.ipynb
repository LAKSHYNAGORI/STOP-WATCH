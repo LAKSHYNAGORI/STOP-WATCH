{
  "nbformat": 4,
  "nbformat_minor": 0,
  "metadata": {
    "colab": {
      "provenance": []
    },
    "kernelspec": {
      "name": "python3",
      "display_name": "Python 3"
    },
    "language_info": {
      "name": "python"
    }
  },
  "cells": [
    {
      "cell_type": "code",
      "source": [
        "import time\n",
        "print(\"press the ENTER key to start \")\n",
        "print(\"press the CTRL+c to exit timer\")\n",
        "while True:\n",
        "    try:\n",
        "        input()\n",
        "        start = time.time()\n",
        "        print(\"Started\")\n",
        "    except KeyboardInterrupt:\n",
        "        print(\"Stopped\")\n",
        "        end = time.time()\n",
        "        print(\"Total Time: \",round(end-start,2),\"Seconds\")\n",
        "        break"
      ],
      "metadata": {
        "id": "Fck4SCOjFrVs",
        "outputId": "14152657-07de-4bed-a0d5-4c2862cdc99d",
        "colab": {
          "base_uri": "https://localhost:8080/"
        }
      },
      "execution_count": null,
      "outputs": [
        {
          "output_type": "stream",
          "name": "stdout",
          "text": [
            "press the ENTER key to start \n",
            "press the CTRL+c to exit timer\n"
          ]
        }
      ]
    }
  ]
}